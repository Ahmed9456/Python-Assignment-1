{
 "cells": [
  {
   "cell_type": "code",
   "execution_count": 3,
   "metadata": {},
   "outputs": [
    {
     "name": "stdout",
     "output_type": "stream",
     "text": [
      "Twinkle, twinkle, little star,\n",
      "\tHow I wonder what you are!\n",
      "\t\tUp above the world so high,\n",
      "\t\tLike a diamond in the sky.\n",
      "Twinkle, twinkle, little star,\n",
      "\tHow I wonder what you are!\n"
     ]
    }
   ],
   "source": [
    "import sys\n",
    "import datetime\n",
    "from math import pi\n",
    "# Question 1\n",
    "\n",
    "print(\"Twinkle, twinkle, little star,\" \"\\n\\tHow I wonder what you are!\" \"\\n\\t\\tUp above the world so high,\"\n",
    "\"\\n\\t\\tLike a diamond in the sky.\" \"\\nTwinkle, twinkle, little star,\" \"\\n\\tHow I wonder what you are!\")\n"
   ]
  },
  {
   "cell_type": "code",
   "execution_count": 4,
   "metadata": {},
   "outputs": [
    {
     "name": "stdout",
     "output_type": "stream",
     "text": [
      "Python Version is\n",
      "3.6.8 (default, Jan 14 2019, 11:02:34) \n",
      "[GCC 8.0.1 20180414 (experimental) [trunk revision 259383]]\n",
      "Python Version detail Info is\n",
      "sys.version_info(major=3, minor=6, micro=8, releaselevel='final', serial=0)\n"
     ]
    }
   ],
   "source": [
    "# Question 2\n",
    "print('Python Version is')\n",
    "print(sys.version)\n",
    "print('Python Version detail Info is')\n",
    "print(sys.version_info)\n",
    "\n"
   ]
  },
  {
   "cell_type": "code",
   "execution_count": 5,
   "metadata": {},
   "outputs": [
    {
     "name": "stdout",
     "output_type": "stream",
     "text": [
      "Current Date and Time is\n",
      "26-11-19 22-11-23\n"
     ]
    }
   ],
   "source": [
    "# Question 3\n",
    "\n",
    "now = datetime.datetime.now()\n",
    "print('Current Date and Time is')\n",
    "print(now.strftime('%d-%m-%y %H-%m-%S'))\n",
    "\n"
   ]
  },
  {
   "cell_type": "code",
   "execution_count": 7,
   "metadata": {},
   "outputs": [
    {
     "name": "stdout",
     "output_type": "stream",
     "text": [
      "enter radius of circle5\n",
      "radius of circle of 5.0\n",
      " is 78.53981633974483\n"
     ]
    }
   ],
   "source": [
    "# Question 4\n",
    "r = float(input('enter radius of circle'))\n",
    "print('radius of circle of ' + str(r) + '\\n is ' + str(pi * r**2))\n",
    "\n"
   ]
  },
  {
   "cell_type": "code",
   "execution_count": 11,
   "metadata": {},
   "outputs": [
    {
     "name": "stdout",
     "output_type": "stream",
     "text": [
      "enter you first name ahmed\n",
      "enter you last name saeed\n",
      "your name is saeed ahmed\n"
     ]
    }
   ],
   "source": [
    "# Question 5\n",
    "a = str(input('enter you first name '))\n",
    "b = str(input('enter you last name '))\n",
    "print('your name is ' + b + ' ' + a)\n",
    "\n"
   ]
  },
  {
   "cell_type": "code",
   "execution_count": 13,
   "metadata": {},
   "outputs": [
    {
     "name": "stdout",
     "output_type": "stream",
     "text": [
      "enter your first string\n",
      "Noneahmed\n",
      "enter your second string\n",
      "Nonesaeed shakir\n",
      "ahmedsaeed shakir\n"
     ]
    }
   ],
   "source": [
    "# Question 6\n",
    "a = str(input(print('enter your first string')))\n",
    "b = str(input(print('enter your second string')))\n",
    "print(a + b)"
   ]
  },
  {
   "cell_type": "code",
   "execution_count": null,
   "metadata": {},
   "outputs": [],
   "source": []
  }
 ],
 "metadata": {
  "kernelspec": {
   "display_name": "Python 3",
   "language": "python",
   "name": "python3"
  },
  "language_info": {
   "codemirror_mode": {
    "name": "ipython",
    "version": 3
   },
   "file_extension": ".py",
   "mimetype": "text/x-python",
   "name": "python",
   "nbconvert_exporter": "python",
   "pygments_lexer": "ipython3",
   "version": "3.6.8"
  }
 },
 "nbformat": 4,
 "nbformat_minor": 2
}
