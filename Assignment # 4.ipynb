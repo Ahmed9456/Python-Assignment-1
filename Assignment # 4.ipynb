{
 "cells": [
  {
   "cell_type": "code",
   "execution_count": 16,
   "metadata": {},
   "outputs": [
    {
     "name": "stdout",
     "output_type": "stream",
     "text": [
      "{'f_name': 'Ahmed', 'l_name': 'Saeed', 'age': '25', 'City': 'Karachi'}\n"
     ]
    }
   ],
   "source": [
    "Info ={\n",
    "    \"f_name\" : \"Ahmed\",\n",
    "    \"l_name\" : \"Saeed\",\n",
    "    \"age\": \"25\",\n",
    "    \"City\" : \"Karachi\" \n",
    "}\n",
    "Info[\"Qualification\"] = \"BSCS\"\n",
    "\n",
    "# Info.update({\"Qualification\": \"MSDS\"})\n",
    "del Info[\"Qualification\"]\n",
    "print(Info)"
   ]
  },
  {
   "cell_type": "code",
   "execution_count": 22,
   "metadata": {},
   "outputs": [
    {
     "name": "stdout",
     "output_type": "stream",
     "text": [
      "{'Karachi': {'Country': 'Pakistan', 'Approx_Population': '2.5 to 3 Million', 'Fact': 'Karachi is called a city of lights'}, 'Lahore': {'Country': 'Pakistan', 'Approx_Population': '1.8 to 2 Million', 'Fact': 'Lahore have rich mughal heritage'}, 'Islamabad': {'Country': 'Pakistan', 'Approx_Population': '2.5 million', 'Fact': 'Capital of pakistan'}}\n"
     ]
    }
   ],
   "source": [
    "Cities= {\n",
    "\"Karachi\":    {\n",
    "        \"Country\": \"Pakistan\",\n",
    "        \"Approx_Population\" :\"2.5 to 3 Million\",\n",
    "        \"Fact\" : \"Karachi is called a city of lights\"\n",
    "    },\n",
    "\"Lahore\": {\n",
    "    \"Country\": \"Pakistan\",\n",
    "        \"Approx_Population\" :\"1.8 to 2 Million\",\n",
    "        \"Fact\" : \"Lahore have rich mughal heritage\"\n",
    "},\n",
    "\"Islamabad\":{\n",
    "    \"Country\": \"Pakistan\",\n",
    "        \"Approx_Population\" :\"2.5 million\",\n",
    "        \"Fact\" : \"Capital of pakistan\"\n",
    "}\n",
    "    \n",
    "}\n",
    "print(Cities)"
   ]
  },
  {
   "cell_type": "code",
   "execution_count": 89,
   "metadata": {},
   "outputs": [
    {
     "name": "stdout",
     "output_type": "stream",
     "text": [
      "Enter your age 6\n",
      "Your ticket price is 10$\n"
     ]
    }
   ],
   "source": [
    "age = input(\"Enter your age \")\n",
    "age = int(age)\n",
    "if age  <= 3:\n",
    "    print(\"your ticket is free\")\n",
    "elif age > 4 and age < 12:\n",
    "    print(\"Your ticket price is 10$\")\n",
    "else:\n",
    "    print(\"your ticket price is 15$\")"
   ]
  },
  {
   "cell_type": "code",
   "execution_count": 95,
   "metadata": {},
   "outputs": [
    {
     "name": "stdout",
     "output_type": "stream",
     "text": [
      "Alice in wonderland\n"
     ]
    }
   ],
   "source": [
    "def Favorite_book(title):\n",
    "    print(title)\n",
    "title = \"Alice in wonderland\"    \n",
    "Favorite_book(title)\n",
    "    "
   ]
  },
  {
   "cell_type": "code",
   "execution_count": 104,
   "metadata": {},
   "outputs": [
    {
     "name": "stdout",
     "output_type": "stream",
     "text": [
      "Enter your guess number5\n",
      "your guess is low\n"
     ]
    }
   ],
   "source": [
    "import random\n",
    "hidden = random.randrange(1,30)\n",
    "guess_num = int(input(\"Enter your guess number\"))\n",
    "\n",
    "if guess_num == hidden:\n",
    "    print(\"your guess is correct\")\n",
    "elif guess_num > hidden:\n",
    "    print(\"your guess is high\")\n",
    "else:\n",
    "    print(\"your guess is low\")\n"
   ]
  },
  {
   "cell_type": "code",
   "execution_count": null,
   "metadata": {},
   "outputs": [],
   "source": []
  },
  {
   "cell_type": "code",
   "execution_count": null,
   "metadata": {},
   "outputs": [],
   "source": []
  }
 ],
 "metadata": {
  "kernelspec": {
   "display_name": "Python 3",
   "language": "python",
   "name": "python3"
  },
  "language_info": {
   "codemirror_mode": {
    "name": "ipython",
    "version": 3
   },
   "file_extension": ".py",
   "mimetype": "text/x-python",
   "name": "python",
   "nbconvert_exporter": "python",
   "pygments_lexer": "ipython3",
   "version": "3.6.8"
  }
 },
 "nbformat": 4,
 "nbformat_minor": 2
}
