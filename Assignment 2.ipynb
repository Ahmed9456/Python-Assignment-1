{
 "cells": [
  {
   "cell_type": "code",
   "execution_count": 29,
   "metadata": {},
   "outputs": [
    {
     "name": "stdout",
     "output_type": "stream",
     "text": [
      "enter your marks for subject 1 85\n",
      "enter your marks for subject 2 80\n",
      "enter your marks for subject 3 95\n",
      "enter your marks for subject 4 90\n",
      "enter your marks for subject 5 65\n",
      "your marks are\n",
      "83.0\n",
      "And your grade is A+\n"
     ]
    }
   ],
   "source": [
    "sub1 = int(input('enter your marks for subject 1 '))\n",
    "sub2 = int(input('enter your marks for subject 2 '))\n",
    "sub3 = int(input('enter your marks for subject 3 '))\n",
    "sub4 = int(input('enter your marks for subject 4 '))\n",
    "sub5 = int(input('enter your marks for subject 5 '))\n",
    "\n",
    "Total_marks = (sub1+sub2+sub3+sub4+sub5) / 5\n",
    "if (Total_marks >= 80):\n",
    "    print('your marks are\\n' + (str(Total_marks)) + '\\nAnd your grade is A+')\n",
    "elif (Total_marks >= 70):\n",
    "    print('your marks are\\n' + (str(Total_marks)) +'\\nAnd your grade is A')    \n",
    "elif (Total_marks >= 60):\n",
    "    print('your marks are\\n' +  (str(Total_marks)) +'\\nAnd your grade is B')   \n",
    "elif (Total_marks >= 50):\n",
    "    print('your marks are\\n' + (str(Total_marks)) + '\\nAnd your grade is c')    \n",
    "else:\n",
    "    print('your marks are\\n' + (str(Total_marks)) + '\\nAnd your grade is Fail')    \n",
    "    \n",
    "\n"
   ]
  },
  {
   "cell_type": "code",
   "execution_count": 19,
   "metadata": {},
   "outputs": [
    {
     "name": "stdout",
     "output_type": "stream",
     "text": [
      "Enter your number 999\n",
      "Your No is 999\n",
      " and it's odd\n"
     ]
    }
   ],
   "source": [
    "num1 = int(input('Enter your number '))\n",
    "if (num1 /2 == 0):\n",
    "    print('Your No is ' + str(num1) + \"\\n and it's even\")\n",
    "else:\n",
    "    print('Your No is ' + str(num1) + \"\\n and it's odd\" )\n"
   ]
  },
  {
   "cell_type": "code",
   "execution_count": 28,
   "metadata": {},
   "outputs": [
    {
     "name": "stdout",
     "output_type": "stream",
     "text": [
      "length of a list is  26\n"
     ]
    }
   ],
   "source": [
    "List = ['a','b','c','d','e','f','g','h','i','j','k','l','m','n','o','p','q','r','s','t','u','v','w','x','y','z']\n",
    "print('length of a list is ', len(List))"
   ]
  },
  {
   "cell_type": "code",
   "execution_count": 40,
   "metadata": {},
   "outputs": [
    {
     "name": "stdout",
     "output_type": "stream",
     "text": [
      "Sum of all elements in the list is 18\n"
     ]
    }
   ],
   "source": [
    "list = [1,2,3,5,7]\n",
    "total = 0\n",
    "for a in range(0, len(list)): \n",
    "    total = total + list[a]\n",
    "print('Sum of all elements in the list is', total)"
   ]
  },
  {
   "cell_type": "code",
   "execution_count": 34,
   "metadata": {},
   "outputs": [
    {
     "name": "stdout",
     "output_type": "stream",
     "text": [
      "How many numbers you want to enter?5\n",
      "Enter your number1\n",
      "Enter your number2\n",
      "Enter your number3\n",
      "Enter your number8\n",
      "Enter your number9\n",
      "Maximum number in the list is  9\n"
     ]
    }
   ],
   "source": [
    "list = []\n",
    "num = int(input('How many numbers you want to enter?'))\n",
    "for a in range(num):\n",
    "    \n",
    "    numbers = int(input('Enter your number'))\n",
    "    list.append(numbers)\n",
    "print('Maximum number in the list is ', max(list))"
   ]
  },
  {
   "cell_type": "code",
   "execution_count": 36,
   "metadata": {},
   "outputs": [
    {
     "name": "stdout",
     "output_type": "stream",
     "text": [
      "1\n",
      "1\n",
      "2\n",
      "3\n"
     ]
    }
   ],
   "source": [
    " a = [1, 1, 2, 3, 5, 8, 13, 21, 34, 55, 89] \n",
    "for i in a :\n",
    "    if i <5:\n",
    "        print (i)"
   ]
  },
  {
   "cell_type": "code",
   "execution_count": null,
   "metadata": {},
   "outputs": [],
   "source": []
  }
 ],
 "metadata": {
  "kernelspec": {
   "display_name": "Python 3",
   "language": "python",
   "name": "python3"
  },
  "language_info": {
   "codemirror_mode": {
    "name": "ipython",
    "version": 3
   },
   "file_extension": ".py",
   "mimetype": "text/x-python",
   "name": "python",
   "nbconvert_exporter": "python",
   "pygments_lexer": "ipython3",
   "version": "3.6.8"
  }
 },
 "nbformat": 4,
 "nbformat_minor": 2
}
