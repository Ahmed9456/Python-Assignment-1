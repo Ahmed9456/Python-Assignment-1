{
 "cells": [
  {
   "cell_type": "code",
   "execution_count": 3,
   "metadata": {},
   "outputs": [
    {
     "name": "stdout",
     "output_type": "stream",
     "text": [
      "enter your first number2\n",
      "enter your second number5\n",
      "Enter your operator**\n",
      "answer is  32\n"
     ]
    }
   ],
   "source": [
    "val1 = int(input('enter your first number'))\n",
    "val2 = int(input('enter your second number'))\n",
    "operator = input('Enter your operator')\n",
    "\n",
    "if operator == '+' :\n",
    "    result = val1 + val2\n",
    "    print ('answer is ', result)\n",
    "elif operator == '-' :\n",
    "    result = val1 - val2\n",
    "    print ('answer is ', result)\n",
    "elif operator == '*' :\n",
    "    result = val1 * val2\n",
    "    print ('answer is ', result)\n",
    "elif operator == '/' :\n",
    "    result = val1 / val2\n",
    "    print ('answer is ', result)\n",
    "elif operator == \"**\":\n",
    "    result = val1 ** val2\n",
    "    print(\"answer is \" ,result)\n",
    "else :\n",
    "    print('incorrect operation')"
   ]
  },
  {
   "cell_type": "code",
   "execution_count": 19,
   "metadata": {},
   "outputs": [
    {
     "name": "stdout",
     "output_type": "stream",
     "text": [
      "there is a number in the list\n"
     ]
    }
   ],
   "source": [
    "list = ('abc', 1, 'ali','ahmed')\n",
    "for i in list:\n",
    "    if (i == 1):\n",
    "        print ('there is a number in the list')\n",
    "#     else :\n",
    "#         print('there is no number in the list')"
   ]
  },
  {
   "cell_type": "code",
   "execution_count": 51,
   "metadata": {},
   "outputs": [
    {
     "name": "stdout",
     "output_type": "stream",
     "text": [
      "{'name': 'Ahmed', 'age': '25', 'job': 'SQA', 'newjob': 'Data Scientist'}\n"
     ]
    }
   ],
   "source": [
    "dict={\n",
    "    \"name\" : \"Ahmed\",\n",
    "    \"age\": \"25\",\n",
    "    \"job\": \"SQA\"\n",
    "}\n",
    "dict ['newjob'] = 'Data Scientist'\n",
    "print(dict)\n",
    "\n",
    "# for each_value in dict.keys():\n",
    "#     print(each_value)\n",
    "# for each_value in dict.values():\n",
    "#     print(each_value)\n",
    "\n",
    "# for each_value , each_key in dict.items():\n",
    "#     print(\"user's \"  +each_value + \" is \" + each_key)"
   ]
  },
  {
   "cell_type": "code",
   "execution_count": 55,
   "metadata": {},
   "outputs": [
    {
     "name": "stdout",
     "output_type": "stream",
     "text": [
      "6\n"
     ]
    }
   ],
   "source": [
    "dict={\n",
    "    \"one\" : 1,\n",
    "    \"two\": 2,\n",
    "    \"three\": 3\n",
    "}\n",
    "print(sum(dict.values()))"
   ]
  },
  {
   "cell_type": "code",
   "execution_count": 56,
   "metadata": {},
   "outputs": [
    {
     "name": "stdout",
     "output_type": "stream",
     "text": [
      "[20, 30, -20, 60]\n"
     ]
    }
   ],
   "source": [
    "def Repeat(x): \n",
    "    size = len(x) \n",
    "    repeated = [] \n",
    "    for i in range(size): \n",
    "        k = i + 1\n",
    "        for j in range(k, size): \n",
    "            if x[i] == x[j] and x[i] not in repeated: \n",
    "                repeated.append(x[i]) \n",
    "    return repeated \n",
    "list1 = [10, 20, 30, 20, 20, 30, 40,  \n",
    "         50, -20, 60, 60, -20, -20] \n",
    "print (Repeat(list1))"
   ]
  },
  {
   "cell_type": "code",
   "execution_count": 59,
   "metadata": {},
   "outputs": [
    {
     "name": "stdout",
     "output_type": "stream",
     "text": [
      "initial_dictionary {'a': 1, 'b': 2, 'c': 3, 'd': 2}\n",
      "duplicate values [2]\n"
     ]
    }
   ],
   "source": [
    "dict = {'a':1, 'b':2, 'c':3, 'd':2} \n",
    "  \n",
    "\n",
    "print(\"initial_dictionary\", str(dict)) \n",
    "\n",
    "rev_dict = {} \n",
    "  \n",
    "for key, value in dict.items(): \n",
    "    rev_dict.setdefault(value, set()).add(key) \n",
    "      \n",
    "result = [key for key, values in rev_dict.items() \n",
    "                              if len(values) > 1] \n",
    "\n",
    "print(\"duplicate values\", str(result)) "
   ]
  },
  {
   "cell_type": "code",
   "execution_count": null,
   "metadata": {},
   "outputs": [],
   "source": []
  },
  {
   "cell_type": "code",
   "execution_count": null,
   "metadata": {},
   "outputs": [],
   "source": []
  },
  {
   "cell_type": "code",
   "execution_count": null,
   "metadata": {},
   "outputs": [],
   "source": []
  },
  {
   "cell_type": "code",
   "execution_count": null,
   "metadata": {},
   "outputs": [],
   "source": []
  },
  {
   "cell_type": "code",
   "execution_count": null,
   "metadata": {},
   "outputs": [],
   "source": []
  },
  {
   "cell_type": "code",
   "execution_count": null,
   "metadata": {},
   "outputs": [],
   "source": []
  }
 ],
 "metadata": {
  "kernelspec": {
   "display_name": "Python 3",
   "language": "python",
   "name": "python3"
  },
  "language_info": {
   "codemirror_mode": {
    "name": "ipython",
    "version": 3
   },
   "file_extension": ".py",
   "mimetype": "text/x-python",
   "name": "python",
   "nbconvert_exporter": "python",
   "pygments_lexer": "ipython3",
   "version": "3.7.3"
  }
 },
 "nbformat": 4,
 "nbformat_minor": 2
}
