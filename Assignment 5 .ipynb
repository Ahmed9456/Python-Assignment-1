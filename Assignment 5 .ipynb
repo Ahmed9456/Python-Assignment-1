{
 "cells": [
  {
   "cell_type": "code",
   "execution_count": 3,
   "metadata": {},
   "outputs": [
    {
     "name": "stdout",
     "output_type": "stream",
     "text": [
      "Input a number to compute the factiorial : 5\n",
      "120\n"
     ]
    }
   ],
   "source": [
    "def factorial(n):\n",
    "    if n == 0:\n",
    "        return 1\n",
    "    else:\n",
    "        return n * factorial(n-1)\n",
    "n=int(input(\"Input a number to compute the factiorial : \"))\n",
    "print(factorial(n))\n",
    "    "
   ]
  },
  {
   "cell_type": "code",
   "execution_count": 2,
   "metadata": {},
   "outputs": [
    {
     "name": "stdout",
     "output_type": "stream",
     "text": [
      "enter your stringMy Name Is Ahmed Saeed\n",
      "lower case letters are 13  and upper case letters are 5\n"
     ]
    }
   ],
   "source": [
    "string = input(\"enter your string\")\n",
    "countL=0\n",
    "countU=0\n",
    "\n",
    "for i in string:\n",
    "    if (i.islower()):\n",
    "        countL =countL+1\n",
    "    elif (i.isupper()):\n",
    "        countU=countU+1\n",
    "print('lower case letters are ' + str(countL) + '  and upper case letters are ' + str(countU))\n",
    "    "
   ]
  },
  {
   "cell_type": "code",
   "execution_count": 11,
   "metadata": {},
   "outputs": [
    {
     "name": "stdout",
     "output_type": "stream",
     "text": [
      "2\n",
      "4\n",
      "None\n"
     ]
    }
   ],
   "source": [
    "def even_number():\n",
    "    numbers = (1,2,3,4)\n",
    "    for a in numbers:\n",
    "        if a % 2 == 0:\n",
    "            print(a)\n",
    "            \n",
    "print(even_number())"
   ]
  },
  {
   "cell_type": "code",
   "execution_count": 14,
   "metadata": {},
   "outputs": [
    {
     "name": "stdout",
     "output_type": "stream",
     "text": [
      "Enter a string:sitaratis\n",
      "The string is a palindrome\n"
     ]
    }
   ],
   "source": [
    "string=input((\"Enter a string:\"))\n",
    "if(string==string[::-1]):\n",
    "      print(\"The string is a palindrome\")\n",
    "else:\n",
    "      print(\"Not a palindrome\")"
   ]
  },
  {
   "cell_type": "code",
   "execution_count": 4,
   "metadata": {},
   "outputs": [
    {
     "name": "stdout",
     "output_type": "stream",
     "text": [
      "enter your number13\n",
      "this is a prime number\n",
      "None\n"
     ]
    }
   ],
   "source": [
    "def Primenum():\n",
    "    num = int(input('enter your number'))\n",
    "    for x in range(2, num):\n",
    "        if num % x == 0:\n",
    "            print(\"this is not a prime number\")\n",
    "            break\n",
    "    else:\n",
    "        print('this is a prime number')\n",
    "print(Primenum())"
   ]
  },
  {
   "cell_type": "code",
   "execution_count": 5,
   "metadata": {},
   "outputs": [
    {
     "name": "stdout",
     "output_type": "stream",
     "text": [
      "Vegetables\n",
      "Fruits\n",
      "clothes\n",
      "shoes\n"
     ]
    }
   ],
   "source": [
    "def grocery(*lists):\n",
    "    \n",
    "  for items in lists:\n",
    "       print(items)\n",
    "\n",
    "grocery(\"Vegetables\",\"Fruits\",\"clothes\",\"shoes\")"
   ]
  },
  {
   "cell_type": "code",
   "execution_count": null,
   "metadata": {},
   "outputs": [],
   "source": []
  }
 ],
 "metadata": {
  "kernelspec": {
   "display_name": "Python 3",
   "language": "python",
   "name": "python3"
  },
  "language_info": {
   "codemirror_mode": {
    "name": "ipython",
    "version": 3
   },
   "file_extension": ".py",
   "mimetype": "text/x-python",
   "name": "python",
   "nbconvert_exporter": "python",
   "pygments_lexer": "ipython3",
   "version": "3.6.8"
  }
 },
 "nbformat": 4,
 "nbformat_minor": 2
}
