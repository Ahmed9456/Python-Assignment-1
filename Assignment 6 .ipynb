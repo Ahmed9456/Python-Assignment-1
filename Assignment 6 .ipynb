{
 "cells": [
  {
   "cell_type": "code",
   "execution_count": 13,
   "metadata": {},
   "outputs": [
    {
     "name": "stdout",
     "output_type": "stream",
     "text": [
      "Car name is 'Mehran' color is 'silver' model is '2005' gives avg is '12 kilometer per liter' registration number is '3090'\n",
      "The owner of Mehran is Ahmed\n",
      "The new owner of a car is Saeed\n"
     ]
    }
   ],
   "source": [
    "class Car() :\n",
    "    def __init__(self,name,color,model,avg,registration_num):\n",
    "        self.name = name\n",
    "        self.color = color\n",
    "        self.model = model\n",
    "        self.avg = avg\n",
    "        self.registration_num = registration_num\n",
    "     \n",
    "    def carDetail(self) :\n",
    "        print(\"Car name is '{}' color is '{}' model is '{}' gives avg is '{}' registration number is '{}'\".format(self.name,self.color,self.model,self.avg,self.registration_num))\n",
    "        \n",
    "    def owner(self,owner) :\n",
    "        print(\"The owner of {} is {}\".format(self.name,owner))\n",
    "        \n",
    "    def change_owner(self,newOwner) :\n",
    "        self.newOwner = newOwner\n",
    "        print(\"The new owner of a car is {}\".format(self.newOwner))\n",
    "        \n",
    "obj1 = Car(\"Mehran\",\"silver\",2005,\"12 kilometer per liter\",3090)\n",
    "\n",
    "obj1.carDetail()\n",
    "\n",
    "obj1.owner(\"Ahmed\")\n",
    "\n",
    "obj1.change_owner(\"Saeed\")\n"
   ]
  },
  {
   "cell_type": "code",
   "execution_count": null,
   "metadata": {},
   "outputs": [],
   "source": []
  },
  {
   "cell_type": "code",
   "execution_count": null,
   "metadata": {},
   "outputs": [],
   "source": []
  }
 ],
 "metadata": {
  "kernelspec": {
   "display_name": "Python 3",
   "language": "python",
   "name": "python3"
  },
  "language_info": {
   "codemirror_mode": {
    "name": "ipython",
    "version": 3
   },
   "file_extension": ".py",
   "mimetype": "text/x-python",
   "name": "python",
   "nbconvert_exporter": "python",
   "pygments_lexer": "ipython3",
   "version": "3.6.8"
  }
 },
 "nbformat": 4,
 "nbformat_minor": 2
}
