{
 "cells": [
  {
   "cell_type": "code",
   "execution_count": 5,
   "metadata": {},
   "outputs": [
    {
     "name": "stdout",
     "output_type": "stream",
     "text": [
      "2005\n",
      "Silver\n",
      "mehran\n",
      "100\n",
      "850\n",
      "\n",
      "\n",
      "2005\n",
      "black\n",
      "corolla\n",
      "140\n",
      "1000\n",
      "\n",
      "\n",
      "2019\n",
      "blue\n",
      "Hustler\n",
      "120\n",
      "750\n"
     ]
    }
   ],
   "source": [
    "class Car():\n",
    "    def __init__(self,model,color,name,speed,weight):\n",
    "        self.model = model\n",
    "        self.color = color\n",
    "        self.name = name\n",
    "        self.speed = speed\n",
    "        self.weight = weight\n",
    "        \n",
    "car1 = Car ('2005','Silver','mehran','100','850')\n",
    "print(car1.model)\n",
    "print(car1.color)\n",
    "print(car1.name)\n",
    "print(car1.speed)\n",
    "print(car1.weight)\n",
    "print('\\n')\n",
    "car2 = Car ('2005','black','corolla','140','1000')\n",
    "print(car2.model)\n",
    "print(car2.color)\n",
    "print(car2.name)\n",
    "print(car2.speed)\n",
    "print(car2.weight)\n",
    "print('\\n')\n",
    "car3 = Car ('2019','blue','Hustler','120','750')\n",
    "print(car3.model)\n",
    "print(car3.color)\n",
    "print(car3.name)\n",
    "print(car3.speed)\n",
    "print(car3.weight)"
   ]
  },
  {
   "cell_type": "code",
   "execution_count": null,
   "metadata": {},
   "outputs": [],
   "source": []
  }
 ],
 "metadata": {
  "kernelspec": {
   "display_name": "Python 3",
   "language": "python",
   "name": "python3"
  },
  "language_info": {
   "codemirror_mode": {
    "name": "ipython",
    "version": 3
   },
   "file_extension": ".py",
   "mimetype": "text/x-python",
   "name": "python",
   "nbconvert_exporter": "python",
   "pygments_lexer": "ipython3",
   "version": "3.6.8"
  }
 },
 "nbformat": 4,
 "nbformat_minor": 2
}
